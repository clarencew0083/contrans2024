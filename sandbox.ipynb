{
 "cells": [
  {
   "cell_type": "code",
   "execution_count": 1,
   "metadata": {},
   "outputs": [
    {
     "data": {
      "text/plain": [
       "True"
      ]
     },
     "execution_count": 1,
     "metadata": {},
     "output_type": "execute_result"
    }
   ],
   "source": [
    "from contrans import contrans\n",
    "import numpy as np\n",
    "import pandas as pd\n",
    "import json\n",
    "import dotenv\n",
    "import requests\n",
    "import os\n",
    "dotenv.load_dotenv()\n",
    "\n"
   ]
  },
  {
   "cell_type": "code",
   "execution_count": 2,
   "metadata": {},
   "outputs": [],
   "source": [
    "ct = contrans()\n",
    "congresskey = os.getenv('congresskey')"
   ]
  },
  {
   "cell_type": "code",
   "execution_count": 3,
   "metadata": {},
   "outputs": [
    {
     "data": {
      "text/html": [
       "<div>\n",
       "<style scoped>\n",
       "    .dataframe tbody tr th:only-of-type {\n",
       "        vertical-align: middle;\n",
       "    }\n",
       "\n",
       "    .dataframe tbody tr th {\n",
       "        vertical-align: top;\n",
       "    }\n",
       "\n",
       "    .dataframe thead th {\n",
       "        text-align: right;\n",
       "    }\n",
       "</style>\n",
       "<table border=\"1\" class=\"dataframe\">\n",
       "  <thead>\n",
       "    <tr style=\"text-align: right;\">\n",
       "      <th></th>\n",
       "      <th>bioguideId</th>\n",
       "      <th>district</th>\n",
       "      <th>name</th>\n",
       "      <th>partyName</th>\n",
       "      <th>state</th>\n",
       "      <th>updateDate</th>\n",
       "      <th>url</th>\n",
       "      <th>depiction.attribution</th>\n",
       "      <th>depiction.imageUrl</th>\n",
       "      <th>terms.item</th>\n",
       "    </tr>\n",
       "  </thead>\n",
       "  <tbody>\n",
       "    <tr>\n",
       "      <th>0</th>\n",
       "      <td>G000595</td>\n",
       "      <td>5.0</td>\n",
       "      <td>good, bob</td>\n",
       "      <td>Republican</td>\n",
       "      <td>Virginia</td>\n",
       "      <td>2024-06-08T18:40:22Z</td>\n",
       "      <td>https://api.congress.gov/v3/member/G000595?for...</td>\n",
       "      <td>Image courtesy of the Member</td>\n",
       "      <td>https://www.congress.gov/img/member/g000595_20...</td>\n",
       "      <td>[{'chamber': 'House of Representatives', 'star...</td>\n",
       "    </tr>\n",
       "    <tr>\n",
       "      <th>1</th>\n",
       "      <td>G000280</td>\n",
       "      <td>5.0</td>\n",
       "      <td>goode, virgil h., jr.</td>\n",
       "      <td>Republican</td>\n",
       "      <td>Virginia</td>\n",
       "      <td>2022-12-16T21:56:51Z</td>\n",
       "      <td>https://api.congress.gov/v3/member/G000280?for...</td>\n",
       "      <td>Image, Congressional Pictorial Directory, 109th.</td>\n",
       "      <td>https://www.congress.gov/img/member/g000280_20...</td>\n",
       "      <td>[{'chamber': 'House of Representatives', 'endY...</td>\n",
       "    </tr>\n",
       "  </tbody>\n",
       "</table>\n",
       "</div>"
      ],
      "text/plain": [
       "  bioguideId  district                   name   partyName     state  \\\n",
       "0    G000595       5.0              good, bob  Republican  Virginia   \n",
       "1    G000280       5.0  goode, virgil h., jr.  Republican  Virginia   \n",
       "\n",
       "             updateDate                                                url  \\\n",
       "0  2024-06-08T18:40:22Z  https://api.congress.gov/v3/member/G000595?for...   \n",
       "1  2022-12-16T21:56:51Z  https://api.congress.gov/v3/member/G000280?for...   \n",
       "\n",
       "                              depiction.attribution  \\\n",
       "0                      Image courtesy of the Member   \n",
       "1  Image, Congressional Pictorial Directory, 109th.   \n",
       "\n",
       "                                  depiction.imageUrl  \\\n",
       "0  https://www.congress.gov/img/member/g000595_20...   \n",
       "1  https://www.congress.gov/img/member/g000280_20...   \n",
       "\n",
       "                                          terms.item  \n",
       "0  [{'chamber': 'House of Representatives', 'star...  \n",
       "1  [{'chamber': 'House of Representatives', 'endY...  "
      ]
     },
     "execution_count": 3,
     "metadata": {},
     "output_type": "execute_result"
    }
   ],
   "source": [
    "goodbioguide = ct.get_bioguide(name='good', state='Virginia', district=5)\n",
    "goodbioguide"
   ]
  },
  {
   "cell_type": "code",
   "execution_count": 6,
   "metadata": {},
   "outputs": [],
   "source": [
    "goodid = goodbioguide.reset_index()['bioguideId'][0]"
   ]
  },
  {
   "cell_type": "code",
   "execution_count": 8,
   "metadata": {},
   "outputs": [
    {
     "data": {
      "text/plain": [
       "<Response [200]>"
      ]
     },
     "execution_count": 8,
     "metadata": {},
     "output_type": "execute_result"
    }
   ],
   "source": [
    "root = 'https://api.congress.gov/v3/'\n",
    "endpoint = f'/member/{goodid}/sponsored-legislation'\n",
    "headers = ct.make_headers\n",
    "params = {'api_key': congresskey,\n",
    "          'limit':250}\n",
    "r = requests.get(root + endpoint,\n",
    "                 #headers=headers,\n",
    "                 params=params)\n",
    "r"
   ]
  },
  {
   "cell_type": "code",
   "execution_count": 10,
   "metadata": {},
   "outputs": [
    {
     "data": {
      "text/plain": [
       "{'congress': 118,\n",
       " 'introducedDate': '2024-05-23',\n",
       " 'latestAction': {'actionDate': '2024-07-05',\n",
       "  'text': 'Placed on the Union Calendar, Calendar No. 474.'},\n",
       " 'number': '8534',\n",
       " 'policyArea': {'name': None},\n",
       " 'title': 'Protecting Student Athletes’ Economic Freedom Act of 2024',\n",
       " 'type': 'HR',\n",
       " 'url': 'https://api.congress.gov/v3/bill/118/hr/8534?format=json'}"
      ]
     },
     "execution_count": 10,
     "metadata": {},
     "output_type": "execute_result"
    }
   ],
   "source": [
    "json.loads(r.text)['sponsoredLegislation'][2]\n"
   ]
  },
  {
   "cell_type": "code",
   "execution_count": null,
   "metadata": {},
   "outputs": [],
   "source": [
    "bioguides = ct.get_bioguideIDs()\n",
    "bioguides\n",
    "\n"
   ]
  },
  {
   "cell_type": "code",
   "execution_count": null,
   "metadata": {},
   "outputs": [],
   "source": [
    "votes = ct.get_votes()\n",
    "#test = ct.get_ideology()\n",
    "votes"
   ]
  },
  {
   "cell_type": "code",
   "execution_count": null,
   "metadata": {},
   "outputs": [],
   "source": [
    "json.loads(r.text)['pagination']"
   ]
  },
  {
   "cell_type": "code",
   "execution_count": null,
   "metadata": {},
   "outputs": [],
   "source": [
    "print(votes.head())\n",
    "house = votes[['rollnumber', 'icpsr', 'cast_code']]"
   ]
  },
  {
   "cell_type": "code",
   "execution_count": null,
   "metadata": {},
   "outputs": [],
   "source": [
    "house_mat = pd.merge(house, house, on='rollnumber')\n",
    "\n",
    "house_mat"
   ]
  },
  {
   "cell_type": "code",
   "execution_count": 6,
   "metadata": {},
   "outputs": [],
   "source": [
    "house_mat['agree'] = house_mat['cast_code_x'] == house_mat['cast_code_y']\n",
    "house_mat = house_mat.groupby(['icpsr_x', 'icpsr_y']).agg({'agree': 'mean'})\n",
    "house_mat = house_mat.reset_index()\n"
   ]
  },
  {
   "cell_type": "code",
   "execution_count": null,
   "metadata": {},
   "outputs": [],
   "source": [
    "house_mat"
   ]
  },
  {
   "cell_type": "code",
   "execution_count": null,
   "metadata": {},
   "outputs": [],
   "source": [
    "ideo = ct.get_ideology()\n",
    "members = ideo[['bioname', 'icpsr', 'party_code']]\n",
    "members"
   ]
  },
  {
   "cell_type": "code",
   "execution_count": null,
   "metadata": {},
   "outputs": [],
   "source": []
  }
 ],
 "metadata": {
  "kernelspec": {
   "display_name": "Python 3",
   "language": "python",
   "name": "python3"
  },
  "language_info": {
   "codemirror_mode": {
    "name": "ipython",
    "version": 3
   },
   "file_extension": ".py",
   "mimetype": "text/x-python",
   "name": "python",
   "nbconvert_exporter": "python",
   "pygments_lexer": "ipython3",
   "version": "3.12.5"
  }
 },
 "nbformat": 4,
 "nbformat_minor": 2
}
